{
 "cells": [
  {
   "cell_type": "code",
   "execution_count": 1,
   "metadata": {},
   "outputs": [
    {
     "name": "stdout",
     "output_type": "stream",
     "text": [
      "type(img1): <class 'numpy.ndarray'>\n",
      "img1.shape: (480, 640)\n",
      "img2.shape: (480, 640, 3)\n",
      "img1.dtype: uint8\n"
     ]
    }
   ],
   "source": [
    "import sys\n",
    "import cv2\n",
    "\n",
    "\n",
    "# 영상 불러오기\n",
    "img1 = cv2.imread('cat.bmp', cv2.IMREAD_GRAYSCALE)\n",
    "img2 = cv2.imread('cat.bmp', cv2.IMREAD_COLOR)\n",
    "\n",
    "if img1 is None or img2 is None:\n",
    "    print('Image load failed!')\n",
    "    sys.exit()\n",
    "\n",
    "# 영상의 속성 참조\n",
    "print('type(img1):', type(img1))\n",
    "print('img1.shape:', img1.shape)\n",
    "print('img2.shape:', img2.shape)\n",
    "print('img1.dtype:', img1.dtype)"
   ]
  },
  {
   "cell_type": "code",
   "execution_count": 4,
   "metadata": {},
   "outputs": [
    {
     "name": "stdout",
     "output_type": "stream",
     "text": [
      "img2 size: 640 x 480\n",
      "img1 is a grayscale image\n"
     ]
    }
   ],
   "source": [
    "# 영상의 크기 참조\n",
    "h, w = img2.shape[:2]\n",
    "print('img2 size: {} x {}'.format(w, h))\n",
    "\n",
    "if len(img1.shape) == 2:\n",
    "    print('img1 is a grayscale image')\n",
    "elif len(img1.shape) == 3:\n",
    "    print('img1 is a truecolor image')\n",
    "\n",
    "cv2.imshow('img1', img1)\n",
    "cv2.imshow('img2', img2)\n",
    "cv2.waitKey()\n",
    "\n",
    "# 영상의 픽셀 값 참조\n",
    "'''\n",
    "for y in range(h):\n",
    "    for x in range(w):\n",
    "        img1[y, x] = 255\n",
    "        img2[y, x] = (0, 0, 255)\n",
    "'''\n",
    "\n",
    "img1[:,:] = 255\n",
    "img2[:,:] = (0, 0, 255)\n",
    "\n",
    "cv2.imshow('img1', img1)\n",
    "cv2.imshow('img2', img2)\n",
    "cv2.waitKey()\n",
    "\n",
    "cv2.destroyAllWindows()"
   ]
  },
  {
   "attachments": {},
   "cell_type": "markdown",
   "metadata": {},
   "source": [
    "-------------------"
   ]
  },
  {
   "cell_type": "code",
   "execution_count": 5,
   "metadata": {},
   "outputs": [],
   "source": [
    "import numpy as np\n",
    "import cv2\n",
    "\n",
    "\n",
    "# 새 영상 생성하기\n",
    "img1 = np.empty((240, 320), dtype=np.uint8)       # grayscale image\n",
    "img2 = np.zeros((240, 320, 3), dtype=np.uint8)    # color image\n",
    "img3 = np.ones((240, 320), dtype=np.uint8) * 255  # white\n",
    "img4 = np.full((240, 320, 3), (0, 255, 255), dtype=np.uint8)  # yellow\n",
    "\n",
    "cv2.imshow('img1', img1)\n",
    "cv2.imshow('img2', img2)\n",
    "cv2.imshow('img3', img3)\n",
    "cv2.imshow('img4', img4)\n",
    "cv2.waitKey()\n",
    "cv2.destroyAllWindows()"
   ]
  },
  {
   "cell_type": "code",
   "execution_count": 7,
   "metadata": {},
   "outputs": [],
   "source": [
    "# 영상 복사\n",
    "img1 = cv2.imread('HappyFish.jpg')\n",
    "\n",
    "img2 = img1\n",
    "img3 = img1.copy()\n",
    "\n",
    "img1[:, :, :] = 255\n",
    "\n",
    "cv2.imshow('img1', img1)\n",
    "cv2.imshow('img2', img2)\n",
    "cv2.imshow('img3', img3)\n",
    "cv2.waitKey()\n",
    "cv2.destroyAllWindows()"
   ]
  },
  {
   "attachments": {},
   "cell_type": "markdown",
   "metadata": {},
   "source": [
    "--------------------------"
   ]
  },
  {
   "cell_type": "code",
   "execution_count": 9,
   "metadata": {},
   "outputs": [],
   "source": [
    "import numpy as np\n",
    "import cv2\n",
    "\n",
    "\n",
    "# 부분 영상 추출\n",
    "img1 = cv2.imread('HappyFish.jpg')\n",
    "\n",
    "img2 = img1[40:120, 30:150]  # numpy.ndarray의 슬라이싱\n",
    "img3 = img1[40:120, 30:150].copy()\n",
    "\n",
    "img2.fill(0)\n",
    "\n",
    "cv2.imshow('img1', img1)\n",
    "cv2.imshow('img2', img2)\n",
    "cv2.imshow('img3', img3)\n",
    "cv2.waitKey()\n",
    "cv2.destroyAllWindows()"
   ]
  },
  {
   "cell_type": "code",
   "execution_count": 12,
   "metadata": {},
   "outputs": [],
   "source": [
    "# 부분 영상 처리\n",
    "img = cv2.imread('lenna.bmp', cv2.IMREAD_GRAYSCALE)\n",
    "\n",
    "img_face = img[200:400, 200:400]  # 얼굴 영역\n",
    "cv2.add(img_face, 50, img_face)   # 밝기 조절\n",
    "cv2.circle(img_face,(100, 100), 80, 0, 2)\n",
    "\n",
    "cv2.imshow('img', img)\n",
    "cv2.imshow('img_face', img_face)\n",
    "cv2.waitKey()\n",
    "cv2.destroyAllWindows()"
   ]
  },
  {
   "attachments": {},
   "cell_type": "markdown",
   "metadata": {},
   "source": [
    "-------------------"
   ]
  },
  {
   "cell_type": "code",
   "execution_count": 14,
   "metadata": {},
   "outputs": [],
   "source": [
    "import sys\n",
    "import cv2\n",
    "\n",
    "\n",
    "# 마스크 영상을 이용한 영상 합성\n",
    "src = cv2.imread('airplane.bmp', cv2.IMREAD_COLOR)\n",
    "mask = cv2.imread('mask_plane.bmp', cv2.IMREAD_GRAYSCALE)\n",
    "dst = cv2.imread('field.bmp', cv2.IMREAD_COLOR)\n",
    "\n",
    "if src is None or mask is None or dst is None:\n",
    "    print('Image load failed!')\n",
    "    sys.exit()\n",
    "\n",
    "#cv2.copyTo(src, mask, dst)\n",
    "dst[mask > 0] = src[mask > 0]\n",
    "\n",
    "cv2.imshow('src', src)\n",
    "cv2.imshow('dst', dst)\n",
    "cv2.imshow('mask', mask)\n",
    "cv2.waitKey()\n",
    "cv2.destroyAllWindows()"
   ]
  },
  {
   "attachments": {},
   "cell_type": "markdown",
   "metadata": {},
   "source": [
    "-------------------------------------------------"
   ]
  },
  {
   "cell_type": "code",
   "execution_count": 15,
   "metadata": {},
   "outputs": [],
   "source": [
    "import sys\n",
    "import cv2\n",
    "\n",
    "\n",
    "# 알파 채널을 마스크 영상으로 이용\n",
    "src = cv2.imread('cat.bmp', cv2.IMREAD_COLOR)\n",
    "logo = cv2.imread('opencv-logo-white.png', cv2.IMREAD_UNCHANGED)\n",
    "\n",
    "if src is None or logo is None:\n",
    "    print('Image load failed!')\n",
    "    sys.exit()\n",
    "\n",
    "mask = logo[:, :, 3]    # mask는 알파 채널로 만든 마스크 영상\n",
    "logo = logo[:, :, 0:3]  # logo는 b, g, r 3채널로 구성된 컬러 영상\n",
    "h, w = mask.shape[:2]\n",
    "crop = src[10:10+h, 10:10+w]  # logo, mask와 같은 크기의 부분 영상 추출\n",
    "\n",
    "cv2.copyTo(logo, mask, crop)\n",
    "#crop[mask > 0] = logo[mask > 0]\n",
    "\n",
    "cv2.imshow('src', src)\n",
    "cv2.imshow('logo', logo)\n",
    "cv2.imshow('mask', mask)\n",
    "cv2.waitKey()\n",
    "cv2.destroyAllWindows()\n"
   ]
  },
  {
   "cell_type": "code",
   "execution_count": null,
   "metadata": {},
   "outputs": [],
   "source": []
  }
 ],
 "metadata": {
  "kernelspec": {
   "display_name": "python 3.8.15('ds_study':conda)",
   "language": "python",
   "name": "ds_study"
  },
  "language_info": {
   "codemirror_mode": {
    "name": "ipython",
    "version": 3
   },
   "file_extension": ".py",
   "mimetype": "text/x-python",
   "name": "python",
   "nbconvert_exporter": "python",
   "pygments_lexer": "ipython3",
   "version": "3.8.15"
  },
  "orig_nbformat": 4,
  "vscode": {
   "interpreter": {
    "hash": "ef2d8d8ac5228537bf79350695dc6a61ac2a80414fb668701b0d231d8d0adeab"
   }
  }
 },
 "nbformat": 4,
 "nbformat_minor": 2
}

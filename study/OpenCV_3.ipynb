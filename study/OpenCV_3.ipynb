{
 "cells": [
  {
   "cell_type": "code",
   "execution_count": 2,
   "metadata": {},
   "outputs": [],
   "source": [
    "import numpy as np\n",
    "import cv2\n",
    "\n",
    "\n",
    "img = np.full((400, 400, 3), 255, np.uint8)\n",
    "#img = cv2.imread('cat.bmp')\n",
    "\n",
    "cv2.line(img, (50, 50), (200, 50), (0, 0, 255), 5)\n",
    "cv2.line(img, (50, 60), (150, 160), (0, 0, 128))\n",
    "\n",
    "cv2.rectangle(img, (50, 200, 150, 100), (0, 255, 0), 2)\n",
    "cv2.rectangle(img, (70, 220), (180, 280), (0, 128, 0), -1)\n",
    "\n",
    "cv2.circle(img, (300, 100), 30, (255, 255, 0), -1, cv2.LINE_AA)\n",
    "cv2.circle(img, (300, 100), 60, (255, 0, 0), 3, cv2.LINE_AA)\n",
    "\n",
    "pts = np.array([[250, 200], [300, 200], [350, 300], [250, 300]])\n",
    "cv2.polylines(img, [pts], True, (255, 0, 255), 2)\n",
    "\n",
    "text = 'Hello? OpenCV ' + cv2.__version__\n",
    "cv2.putText(img, text, (50, 350), cv2.FONT_HERSHEY_SIMPLEX, 0.8, \n",
    "            (0, 0, 255), 1, cv2.LINE_AA)\n",
    "\n",
    "cv2.imshow(\"img\", img)\n",
    "cv2.waitKey()\n",
    "cv2.destroyAllWindows()\n"
   ]
  },
  {
   "attachments": {},
   "cell_type": "markdown",
   "metadata": {},
   "source": [
    "---------------------------------------"
   ]
  },
  {
   "cell_type": "code",
   "execution_count": 3,
   "metadata": {},
   "outputs": [],
   "source": [
    "import sys\n",
    "import cv2\n",
    "\n",
    "\n",
    "# 카메라 열기\n",
    "cap = cv2.VideoCapture(0)        # 기본 카메라 장치 열기\n",
    "\n",
    "if not cap.isOpened():\n",
    "    print('camera open failed!')\n",
    "    sys.exit()\n",
    "\n",
    "# 카메라 프레임 처리\n",
    "while True:\n",
    "    ret, frame = cap.read()      # 카메라로부터 프레임을 정상적으로 받아오면\n",
    "                                 # ret에는 True, frame에는 해당 프레임이 저장됨\n",
    "    if not ret:\n",
    "        break\n",
    "\n",
    "    gray = cv2.cvtColor(frame, cv2.COLOR_BGR2GRAY)   # 그레이스케일로 변환\n",
    "\n",
    "    cv2.imshow('frame', frame)\n",
    "    cv2.imshow('gray', gray)\n",
    "\n",
    "    if cv2.waitKey(1) == 27:  # ESC\n",
    "        break\n",
    "\n",
    "cap.release()                 # 사용한 자원 해제\n",
    "cv2.destroyAllWindows()\n"
   ]
  },
  {
   "attachments": {},
   "cell_type": "markdown",
   "metadata": {},
   "source": [
    "-----------------------------------------------"
   ]
  },
  {
   "cell_type": "code",
   "execution_count": 4,
   "metadata": {},
   "outputs": [
    {
     "name": "stdout",
     "output_type": "stream",
     "text": [
      "Frame width: 1280\n",
      "Frame height: 720\n",
      "Frame count: 85\n",
      "FPS: 24.0\n"
     ]
    }
   ],
   "source": [
    "import sys\n",
    "import cv2\n",
    "\n",
    "\n",
    "# 비디오 파일 열기\n",
    "cap = cv2.VideoCapture('video1.mp4')\n",
    "\n",
    "if not cap.isOpened():\n",
    "    print(\"Video open failed!\")\n",
    "    sys.exit()\n",
    "\n",
    "# 비디오 프레임 크기, 전체 프레임수, FPS 등 출력\n",
    "print('Frame width:', int(cap.get(cv2.CAP_PROP_FRAME_WIDTH)))\n",
    "print('Frame height:', int(cap.get(cv2.CAP_PROP_FRAME_HEIGHT)))\n",
    "print('Frame count:', int(cap.get(cv2.CAP_PROP_FRAME_COUNT)))\n",
    "\n",
    "fps = cap.get(cv2.CAP_PROP_FPS)\n",
    "print('FPS:', fps)\n",
    "\n",
    "delay = round(1000 / fps)\n",
    "\n",
    "# 비디오 매 프레임 처리\n",
    "while True:\n",
    "    ret, frame = cap.read()\n",
    "\n",
    "    if not ret:\n",
    "        break\n",
    "\n",
    "    gray = cv2.cvtColor(frame, cv2.COLOR_BGR2GRAY)\n",
    "\n",
    "    cv2.imshow('frame', frame)\n",
    "    cv2.imshow('gray', gray)\n",
    "\n",
    "    if cv2.waitKey(delay) == 27:\n",
    "        break\n",
    "\n",
    "cap.release()\n",
    "cv2.destroyAllWindows()"
   ]
  },
  {
   "attachments": {},
   "cell_type": "markdown",
   "metadata": {},
   "source": [
    "-------------------------------------------------------"
   ]
  },
  {
   "cell_type": "code",
   "execution_count": 5,
   "metadata": {},
   "outputs": [],
   "source": [
    "import sys\n",
    "import cv2\n",
    "\n",
    "\n",
    "cap = cv2.VideoCapture(0)\n",
    "\n",
    "if not cap.isOpened():\n",
    "    print(\"Camera open failed!\")\n",
    "    sys.exit()\n",
    "\n",
    "w = round(cap.get(cv2.CAP_PROP_FRAME_WIDTH))\n",
    "h = round(cap.get(cv2.CAP_PROP_FRAME_HEIGHT))\n",
    "fps = cap.get(cv2.CAP_PROP_FPS)\n",
    "\n",
    "fourcc = cv2.VideoWriter_fourcc(*'DIVX') # *'DIVX' == 'D', 'I', 'V', 'X'\n",
    "delay = round(1000 / fps)\n",
    "\n",
    "out = cv2.VideoWriter('output.avi', fourcc, fps, (w, h))\n",
    "\n",
    "if not out.isOpened():\n",
    "    print('File open failed!')\n",
    "    cap.release()\n",
    "    sys.exit()\n",
    "\n",
    "while True:\n",
    "    ret, frame = cap.read()\n",
    "\n",
    "    if not ret:\n",
    "        break\n",
    "\n",
    "    #gray = cv2.cvtColor(frame, cv2.COLOR_BGR2GRAY)\n",
    "\n",
    "    out.write(frame)\n",
    "\n",
    "    cv2.imshow('frame', frame)\n",
    "    #cv2.imshow('gray', gray)\n",
    "\n",
    "    if cv2.waitKey(delay) == 27:\n",
    "        break\n",
    "\n",
    "cap.release()\n",
    "out.release()\n",
    "cv2.destroyAllWindows()"
   ]
  },
  {
   "cell_type": "code",
   "execution_count": null,
   "metadata": {},
   "outputs": [],
   "source": []
  }
 ],
 "metadata": {
  "kernelspec": {
   "display_name": "python 3.8.15('ds_study':conda)",
   "language": "python",
   "name": "ds_study"
  },
  "language_info": {
   "codemirror_mode": {
    "name": "ipython",
    "version": 3
   },
   "file_extension": ".py",
   "mimetype": "text/x-python",
   "name": "python",
   "nbconvert_exporter": "python",
   "pygments_lexer": "ipython3",
   "version": "3.8.15"
  },
  "orig_nbformat": 4,
  "vscode": {
   "interpreter": {
    "hash": "ef2d8d8ac5228537bf79350695dc6a61ac2a80414fb668701b0d231d8d0adeab"
   }
  }
 },
 "nbformat": 4,
 "nbformat_minor": 2
}
